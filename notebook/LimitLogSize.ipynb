{
 "cells": [
  {
   "cell_type": "code",
   "execution_count": 6,
   "metadata": {
    "collapsed": false
   },
   "outputs": [
    {
     "data": {
      "text/html": [
       "<!DOCTYPE html PUBLIC \"-//W3C//DTD HTML 4.01//EN\"\n",
       "   \"http://www.w3.org/TR/html4/strict.dtd\">\n",
       "\n",
       "<html>\n",
       "<head>\n",
       "  <title>SAS Log</title>\n",
       "  <meta http-equiv=\"content-type\" content=\"text/html; charset=None\">\n",
       "  <style type=\"text/css\">\n",
       "td.linenos { background-color: #f0f0f0; padding-right: 10px; }\n",
       "span.lineno { background-color: #f0f0f0; padding: 0 5px 0 5px; }\n",
       "pre { line-height: 125%; }\n",
       "body .hll { background-color: #ffffcc }\n",
       "body  { background: #ffffff; }\n",
       "body .c { color: #0000FF } /* Comment */\n",
       "body .k { color: #ff0000; font-weight: bold } /* Keyword */\n",
       "body .n { color: #008000 } /* Name */\n",
       "body .ch { color: #0000FF } /* Comment.Hashbang */\n",
       "body .cm { color: #0000FF } /* Comment.Multiline */\n",
       "body .cp { color: #0000FF } /* Comment.Preproc */\n",
       "body .cpf { color: #0000FF } /* Comment.PreprocFile */\n",
       "body .c1 { color: #0000FF } /* Comment.Single */\n",
       "body .cs { color: #0000FF } /* Comment.Special */\n",
       "body .kc { color: #ff0000; font-weight: bold } /* Keyword.Constant */\n",
       "body .kd { color: #ff0000; font-weight: bold } /* Keyword.Declaration */\n",
       "body .kn { color: #ff0000; font-weight: bold } /* Keyword.Namespace */\n",
       "body .kp { color: #ff0000; font-weight: bold } /* Keyword.Pseudo */\n",
       "body .kr { color: #ff0000; font-weight: bold } /* Keyword.Reserved */\n",
       "body .kt { color: #ff0000; font-weight: bold } /* Keyword.Type */\n",
       "body .s { color: #111111 } /* Literal.String */\n",
       "body .na { color: #008000 } /* Name.Attribute */\n",
       "body .nb { color: #008000 } /* Name.Builtin */\n",
       "body .nc { color: #008000 } /* Name.Class */\n",
       "body .no { color: #008000 } /* Name.Constant */\n",
       "body .nd { color: #008000 } /* Name.Decorator */\n",
       "body .ni { color: #008000 } /* Name.Entity */\n",
       "body .ne { color: #008000 } /* Name.Exception */\n",
       "body .nf { color: #008000 } /* Name.Function */\n",
       "body .nl { color: #008000 } /* Name.Label */\n",
       "body .nn { color: #008000 } /* Name.Namespace */\n",
       "body .nx { color: #008000 } /* Name.Other */\n",
       "body .py { color: #008000 } /* Name.Property */\n",
       "body .nt { color: #008000 } /* Name.Tag */\n",
       "body .nv { color: #008000 } /* Name.Variable */\n",
       "body .sb { color: #111111 } /* Literal.String.Backtick */\n",
       "body .sc { color: #111111 } /* Literal.String.Char */\n",
       "body .sd { color: #111111 } /* Literal.String.Doc */\n",
       "body .s2 { color: #111111 } /* Literal.String.Double */\n",
       "body .se { color: #111111 } /* Literal.String.Escape */\n",
       "body .sh { color: #111111 } /* Literal.String.Heredoc */\n",
       "body .si { color: #111111 } /* Literal.String.Interpol */\n",
       "body .sx { color: #111111 } /* Literal.String.Other */\n",
       "body .sr { color: #111111 } /* Literal.String.Regex */\n",
       "body .s1 { color: #111111 } /* Literal.String.Single */\n",
       "body .ss { color: #111111 } /* Literal.String.Symbol */\n",
       "body .bp { color: #008000 } /* Name.Builtin.Pseudo */\n",
       "body .vc { color: #008000 } /* Name.Variable.Class */\n",
       "body .vg { color: #008000 } /* Name.Variable.Global */\n",
       "body .vi { color: #008000 } /* Name.Variable.Instance */\n",
       "\n",
       "  </style>\n",
       "</head>\n",
       "<body>\n",
       "<h2>SAS Log</h2>\n",
       "\n",
       "<div class=\"highlight\"><pre><span class=\"s\">128  ods listing close;ods html5 file=stdout options(bitmap_mode=&#39;inline&#39;) device=png; ods graphics on / outputfmt=png;</span><br><span class=\"c\">NOTE: Writing HTML5 Body file: STDOUT</span><br><span class=\"s\">129  ;*&#39;;*&quot;;*/;</span><br><span class=\"s\">130  proc import</span><br><span class=\"s\">131     datafile=&#39;adult.data&#39;</span><br><span class=\"s\">132     dbms=csv out=df replace;</span><br><span class=\"s\">133     getnames=no;</span><br><span class=\"s\">134  run;</span><br><span class=\"s\">134!     ;*&#39;;*&quot;;*/;</span><br><span class=\"s\">135   /**********************************************************************</span><br><span class=\"s\">136   *   PRODUCT:   SAS</span><br><span class=\"s\">137   *   VERSION:   9.4</span><br><span class=\"s\">138   *   CREATOR:   External File Interface</span><br><span class=\"s\">139   *   DATE:      18FEB16</span><br><span class=\"s\">140   *   DESC:      Generated SAS Datastep Code</span><br><span class=\"s\">141   *   TEMPLATE SOURCE:  (None Specified.)</span><br><span class=\"s\">142   ***********************************************************************/</span><br><span class=\"s\">143      data WORK.DF    ;</span><br><span class=\"s\">144      %let _EFIERR_ = 0; /* set the ERROR detection macro variable */</span><br><span class=\"s\">145      infile &#39;adult.data&#39; delimiter = &#39;,&#39; MISSOVER DSD lrecl=32767 ;</span><br><span class=\"s\">146         informat VAR1 best32. ;</span><br><span class=\"s\">147         informat VAR2 $16. ;</span><br><span class=\"s\">148         informat VAR3 best32. ;</span><br><span class=\"s\">149         informat VAR4 $12. ;</span><br><span class=\"s\">150         informat VAR5 best32. ;</span><br><span class=\"s\">151         informat VAR6 $21. ;</span><br><span class=\"s\">152         informat VAR7 $17. ;</span><br><span class=\"s\">153         informat VAR8 $13. ;</span><br><span class=\"s\">154         informat VAR9 $18. ;</span><br><span class=\"s\">155         informat VAR10 $6. ;</span><br><span class=\"s\">156         informat VAR11 best32. ;</span><br><span class=\"s\">157         informat VAR12 best32. ;</span><br><span class=\"s\">158         informat VAR13 best32. ;</span><br><span class=\"s\">159         informat VAR14 $13. ;</span><br><span class=\"s\">160         informat VAR15 $5. ;</span><br><span class=\"s\">161         format VAR1 best12. ;</span><br><span class=\"s\">162         format VAR2 $16. ;</span><br><span class=\"s\">163         format VAR3 best12. ;</span><br><span class=\"s\">164         format VAR4 $12. ;</span><br><span class=\"s\">165         format VAR5 best12. ;</span><br><span class=\"s\">166         format VAR6 $21. ;</span><br><span class=\"s\">167         format VAR7 $17. ;</span><br><span class=\"s\">168         format VAR8 $13. ;</span><br><span class=\"s\">169         format VAR9 $18. ;</span><br><span class=\"s\">170         format VAR10 $6. ;</span><br><span class=\"s\">171         format VAR11 best12. ;</span><br><span class=\"s\">172         format VAR12 best12. ;</span><br><span class=\"s\">173         format VAR13 best12. ;</span><br><span class=\"s\">174         format VAR14 $13. ;</span><br><span class=\"s\">175         format VAR15 $5. ;</span><br><span class=\"s\">176      input</span><br><span class=\"s\">177                  VAR1</span><br><span class=\"s\">178                  VAR2 $</span><br><span class=\"s\">179                  VAR3</span><br><span class=\"s\">180                  VAR4 $</span><br><span class=\"s\">181                  VAR5</span><br><span class=\"s\">182                  VAR6 $</span><br><span class=\"s\">183                  VAR7 $</span><br><span class=\"s\">184                  VAR8 $</span><br><span class=\"s\">185                  VAR9 $</span><br><span class=\"s\">186                  VAR10 $</span><br><span class=\"s\">187                  VAR11</span><br><span class=\"s\">188                  VAR12</span><br><span class=\"s\">189                  VAR13</span><br><span class=\"s\">190                  VAR14 $</span><br><span class=\"s\">191                  VAR15 $</span><br><span class=\"s\">192      ;</span><br><span class=\"s\">193      if _ERROR_ then call symputx(&#39;_EFIERR_&#39;,1);  /* set ERROR detection macro variable */</span><br><span class=\"s\">194      run;</span><br><span class=\"c\">NOTE: The infile &#39;adult.data&#39; is:</span><br><span class=\"err\">      Filename=/opt/notebook/adult.data,</span><br><span class=\"err\">      Owner Name=root,Group Name=root,</span><br><span class=\"err\">      Access Permission=-rw-r--r--,</span><br><span class=\"err\">      Last Modified=</span><span class=\"s\">16Feb2016:15:18:19,</span><br><span class=\"err\">      File Size (bytes)=</span><span class=\"s\">3974305</span><br><br><span class=\"c\">NOTE: 32562 records were read from the infile &#39;adult.data&#39;.</span><br><span class=\"err\">      The minimum record length was </span><span class=\"s\">0.</span><br><span class=\"err\">      The maximum record length was </span><span class=\"s\">153.</span><br><span class=\"c\">NOTE: The data set WORK.DF has 32562 observations and 15 variables.</span><br><span class=\"c\">NOTE: DATA statement used (Total process time):</span><br><span class=\"err\">      real time           </span><span class=\"s\">0.04 seconds</span><br><span class=\"err\">      cpu time            </span><span class=\"s\">0.00 seconds</span><br><span class=\"err\">      </span><br><span class=\"s\">32562 rows created in WORK.DF from adult.data.</span><br><span class=\"err\">  </span><br><span class=\"err\">  </span><br><span class=\"err\">  </span><br><span class=\"c\">NOTE: WORK.DF data set was successfully created.</span><br><span class=\"c\">NOTE: The data set WORK.DF has 32562 observations and 15 variables.</span><br><span class=\"c\">NOTE: PROCEDURE IMPORT used (Total process time):</span><br><span class=\"err\">      real time           </span><span class=\"s\">0.08 seconds</span><br><span class=\"err\">      cpu time            </span><span class=\"s\">0.09 seconds</span><br><span class=\"err\">      </span><br><span class=\"s\">195  ods html5 close;ods listing;</span><br><br><span class=\"s\">196  </span><br></pre></div>\n",
       "</body>\n",
       "</html>\n"
      ],
      "text/plain": [
       "<IPython.core.display.HTML object>"
      ]
     },
     "execution_count": 6,
     "metadata": {},
     "output_type": "execute_result"
    }
   ],
   "source": [
    "proc import \n",
    "   datafile='adult.data'\n",
    "   dbms=csv out=df replace;\n",
    "   getnames=no;\n",
    "run;"
   ]
  },
  {
   "cell_type": "code",
   "execution_count": 1,
   "metadata": {
    "collapsed": false
   },
   "outputs": [
    {
     "data": {
      "text/html": [
       "<!DOCTYPE html PUBLIC \"-//W3C//DTD HTML 4.01//EN\"\n",
       "   \"http://www.w3.org/TR/html4/strict.dtd\">\n",
       "\n",
       "<html>\n",
       "<head>\n",
       "  <title></title>\n",
       "  <meta http-equiv=\"content-type\" content=\"text/html; charset=None\">\n",
       "  <style type=\"text/css\">\n",
       "td.linenos { background-color: #f0f0f0; padding-right: 10px; }\n",
       "span.lineno { background-color: #f0f0f0; padding: 0 5px 0 5px; }\n",
       "pre { line-height: 125%; }\n",
       "body .hll { background-color: #ffffcc }\n",
       "body  { background: #ffffff; }\n",
       "body .c { color: #0000FF } /* Comment */\n",
       "body .k { color: #ff0000; font-weight: bold } /* Keyword */\n",
       "body .n { color: #008000 } /* Name */\n",
       "body .ch { color: #0000FF } /* Comment.Hashbang */\n",
       "body .cm { color: #0000FF } /* Comment.Multiline */\n",
       "body .cp { color: #0000FF } /* Comment.Preproc */\n",
       "body .cpf { color: #0000FF } /* Comment.PreprocFile */\n",
       "body .c1 { color: #0000FF } /* Comment.Single */\n",
       "body .cs { color: #0000FF } /* Comment.Special */\n",
       "body .kc { color: #ff0000; font-weight: bold } /* Keyword.Constant */\n",
       "body .kd { color: #ff0000; font-weight: bold } /* Keyword.Declaration */\n",
       "body .kn { color: #ff0000; font-weight: bold } /* Keyword.Namespace */\n",
       "body .kp { color: #ff0000; font-weight: bold } /* Keyword.Pseudo */\n",
       "body .kr { color: #ff0000; font-weight: bold } /* Keyword.Reserved */\n",
       "body .kt { color: #ff0000; font-weight: bold } /* Keyword.Type */\n",
       "body .s { color: #111111 } /* Literal.String */\n",
       "body .na { color: #008000 } /* Name.Attribute */\n",
       "body .nb { color: #008000 } /* Name.Builtin */\n",
       "body .nc { color: #008000 } /* Name.Class */\n",
       "body .no { color: #008000 } /* Name.Constant */\n",
       "body .nd { color: #008000 } /* Name.Decorator */\n",
       "body .ni { color: #008000 } /* Name.Entity */\n",
       "body .ne { color: #008000 } /* Name.Exception */\n",
       "body .nf { color: #008000 } /* Name.Function */\n",
       "body .nl { color: #008000 } /* Name.Label */\n",
       "body .nn { color: #008000 } /* Name.Namespace */\n",
       "body .nx { color: #008000 } /* Name.Other */\n",
       "body .py { color: #008000 } /* Name.Property */\n",
       "body .nt { color: #008000 } /* Name.Tag */\n",
       "body .nv { color: #008000 } /* Name.Variable */\n",
       "body .sb { color: #111111 } /* Literal.String.Backtick */\n",
       "body .sc { color: #111111 } /* Literal.String.Char */\n",
       "body .sd { color: #111111 } /* Literal.String.Doc */\n",
       "body .s2 { color: #111111 } /* Literal.String.Double */\n",
       "body .se { color: #111111 } /* Literal.String.Escape */\n",
       "body .sh { color: #111111 } /* Literal.String.Heredoc */\n",
       "body .si { color: #111111 } /* Literal.String.Interpol */\n",
       "body .sx { color: #111111 } /* Literal.String.Other */\n",
       "body .sr { color: #111111 } /* Literal.String.Regex */\n",
       "body .s1 { color: #111111 } /* Literal.String.Single */\n",
       "body .ss { color: #111111 } /* Literal.String.Symbol */\n",
       "body .bp { color: #008000 } /* Name.Builtin.Pseudo */\n",
       "body .vc { color: #008000 } /* Name.Variable.Class */\n",
       "body .vg { color: #008000 } /* Name.Variable.Global */\n",
       "body .vi { color: #008000 } /* Name.Variable.Instance */\n",
       "\n",
       "  </style>\n",
       "</head>\n",
       "<body>\n",
       "<h2></h2>\n",
       "\n",
       "<div class=\"highlight\"><pre><span></span><span class=\"s\">11   ods listing close;ods html5 file=stdout options(bitmap_mode=&#39;inline&#39;) device=png; ods graphics on / outputfmt=png;</span><br><span class=\"cm\">NOTE: Writing HTML5 Body file: STDOUT</span><br><span class=\"s\">12   </span><br><span class=\"s\">13   options nosource nonotes;</span><br><span class=\"s\">32562 rows created in WORK.DF from adult.data.</span><br><span class=\"s\">  </span><br><span class=\"s\">  </span><br><span class=\"s\">  </span><br><span class=\"s\">80   ods html5 close;ods listing;</span><br><br><span class=\"s\">81   </span><br></pre></div>\n",
       "</body>\n",
       "</html>\n"
      ],
      "text/plain": [
       "<IPython.core.display.HTML object>"
      ]
     },
     "execution_count": 1,
     "metadata": {},
     "output_type": "execute_result"
    }
   ],
   "source": [
    "options nosource nonotes;\n",
    "proc import \n",
    "   datafile='adult.data'\n",
    "   dbms=csv out=df replace;\n",
    "   getnames=no;\n",
    "run;\n",
    "options source notes;"
   ]
  },
  {
   "cell_type": "code",
   "execution_count": null,
   "metadata": {
    "collapsed": true
   },
   "outputs": [],
   "source": []
  }
 ],
 "metadata": {
  "kernelspec": {
   "display_name": "SAS",
   "language": "sas",
   "name": "sas"
  },
  "language_info": {
   "codemirror_mode": "sas",
   "file_extension": ".sas",
   "mimetype": "text/x-sas",
   "name": "sas"
  }
 },
 "nbformat": 4,
 "nbformat_minor": 0
}
