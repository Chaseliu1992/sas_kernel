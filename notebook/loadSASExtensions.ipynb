{
 "cells": [
  {
   "cell_type": "markdown",
   "metadata": {},
   "source": [
    "# This notebook will help you install the SAS NBExtensions\n",
    "The process includes a mix of command line and python code and can be done either systemwide or for the current user depending on the permission level the user has."
   ]
  },
  {
   "cell_type": "markdown",
   "metadata": {},
   "source": [
    "This code will import the notebook module and display the paths that Juypter will search for NBExtensions"
   ]
  },
  {
   "cell_type": "code",
   "execution_count": null,
   "metadata": {
    "collapsed": false
   },
   "outputs": [],
   "source": [
    "import notebook\n",
    "from __future__ import print_function\n",
    "from jupyter_core.paths import jupyter_data_dir, jupyter_path\n",
    "print(jupyter_data_dir())\n",
    "print(jupyter_path())"
   ]
  },
  {
   "cell_type": "markdown",
   "metadata": {},
   "source": [
    "# To Install Systemwide\n",
    "## This will require you to be root or have `sudo` rights "
   ]
  },
  {
   "cell_type": "markdown",
   "metadata": {},
   "source": [
    "The `!` below is a \"magic\" that runs os commands. The command below assumes your cuurent working directory is inside the sas_kernel cloned repository. If that is not the case then you can either:\n",
    "1. change the path below\n",
    "1. use the `!` to change the current working directory\n",
    "\n",
    "If this command is successful you should see a note about files being copied from the sas_kernel location to `/usr/local/share/jupyter/nbextensions/`"
   ]
  },
  {
   "cell_type": "code",
   "execution_count": null,
   "metadata": {
    "collapsed": false
   },
   "outputs": [],
   "source": [
    "! sudo jupyter nbextension install sas_kernel/sas_kernel/nbextensions/showSASLog"
   ]
  },
  {
   "cell_type": "markdown",
   "metadata": {},
   "source": [
    "This python code will check on the nbextension in systemwide folders (user=False is the flag for this)\n",
    "and then enable the extension. If anything goes wrong, you'll see the `Extension not found` message"
   ]
  },
  {
   "cell_type": "code",
   "execution_count": null,
   "metadata": {
    "collapsed": false
   },
   "outputs": [],
   "source": [
    "if notebook.nbextensions.check_nbextension('showSASLog', user=False):\n",
    "    E = notebook.nbextensions.EnableNBExtensionApp()\n",
    "    E.enable_nbextension('showSASLog/main')\n",
    "else:\n",
    "    print (\"Extension not found\")"
   ]
  },
  {
   "cell_type": "code",
   "execution_count": null,
   "metadata": {
    "collapsed": false
   },
   "outputs": [],
   "source": [
    "! sudo jupyter nbextension install /root/sas_kernel/sas_kernel/nbextensions/theme"
   ]
  },
  {
   "cell_type": "code",
   "execution_count": null,
   "metadata": {
    "collapsed": false
   },
   "outputs": [],
   "source": [
    "if notebook.nbextensions.check_nbextension('theme', user=False):\n",
    "    E = notebook.nbextensions.EnableNBExtensionApp()\n",
    "    E.enable_nbextension('theme/theme_selector')\n",
    "else:\n",
    "    print (\"Extension not found\")"
   ]
  },
  {
   "cell_type": "markdown",
   "metadata": {},
   "source": [
    "# To install for the Current User"
   ]
  },
  {
   "cell_type": "markdown",
   "metadata": {},
   "source": [
    "The `!` below is a \"magic\" that runs os commands. The command below assumes your cuurent working directory is inside the sas_kernel cloned repository. If that is not the case then you can either:\n",
    "1. change the path below\n",
    "1. use the `!` to change the current working directory\n",
    "\n",
    "If this command is successful you should see a note about files being copied from the sas_kernel location to `/usr/local/share/jupyter/nbextensions/`"
   ]
  },
  {
   "cell_type": "code",
   "execution_count": null,
   "metadata": {
    "collapsed": true
   },
   "outputs": [],
   "source": [
    "! jupyter nbextension install sas_kernel/sas_kernel/nbextensions/showSASLog --user"
   ]
  },
  {
   "cell_type": "markdown",
   "metadata": {},
   "source": [
    "This python code will check on the nbextension in user folders `~/` (user=True is the flag for this)\n",
    "and then enable the extension. If anything goes wrong, you'll see the `Extension not found` message"
   ]
  },
  {
   "cell_type": "code",
   "execution_count": null,
   "metadata": {
    "collapsed": true
   },
   "outputs": [],
   "source": [
    "if notebook.nbextensions.check_nbextension('showSASLog', user=True):\n",
    "    E = notebook.nbextensions.EnableNBExtensionApp()\n",
    "    E.enable_nbextension('showSASLog/main')\n",
    "else:\n",
    "    print (\"Extension not found\")"
   ]
  },
  {
   "cell_type": "code",
   "execution_count": null,
   "metadata": {
    "collapsed": true
   },
   "outputs": [],
   "source": [
    "! jupyter nbextension install /root/sas_kernel/sas_kernel/nbextensions/theme --user"
   ]
  },
  {
   "cell_type": "code",
   "execution_count": null,
   "metadata": {
    "collapsed": true
   },
   "outputs": [],
   "source": [
    "if notebook.nbextensions.check_nbextension('theme', user=True):\n",
    "    E = notebook.nbextensions.EnableNBExtensionApp()\n",
    "    E.enable_nbextension('theme/theme_selector')\n",
    "else:\n",
    "    print (\"Extension not found\")"
   ]
  },
  {
   "cell_type": "markdown",
   "metadata": {},
   "source": [
    "# Check to see what NBExtensions are Installed\n",
    "This code will produce a simple table listing the installed extensions this user has access to. It will be a mix of user and systemwide extensions if applicable.\n",
    "\n",
    "Is should list at least the following:\n",
    "\n",
    "|Extension name|\n",
    "|---|\n",
    "|showSASLog/main|\n",
    "|theme/theme_selector|\n"
   ]
  },
  {
   "cell_type": "code",
   "execution_count": null,
   "metadata": {
    "collapsed": false
   },
   "outputs": [],
   "source": [
    "from notebook.services.config import ConfigManager\n",
    "from IPython.display import HTML\n",
    "ip = get_ipython()\n",
    "cm = ConfigManager(parent=ip, profile_dir=ip.profile_dir.location)\n",
    "extensions =cm.get('notebook')\n",
    "table = \"\"\n",
    "for ext in extensions['load_extensions']:\n",
    "    table += \"<tr><td>%s</td>\\n\" % (ext)\n",
    "\n",
    "top = \"\"\"\n",
    "<table border=\"1\">\n",
    "  <tr>\n",
    "    <th>Extension name</th>\n",
    "  </tr>\n",
    "\"\"\"\n",
    "bottom = \"\"\"\n",
    "</table>\n",
    "\"\"\"\n",
    "HTML(top + table + bottom)\n"
   ]
  }
 ],
 "metadata": {
  "kernelspec": {
   "display_name": "Python 3",
   "language": "python",
   "name": "python3"
  },
  "language_info": {
   "codemirror_mode": {
    "name": "ipython",
    "version": 3
   },
   "file_extension": ".py",
   "mimetype": "text/x-python",
   "name": "python",
   "nbconvert_exporter": "python",
   "pygments_lexer": "ipython3",
   "version": "3.5.1"
  }
 },
 "nbformat": 4,
 "nbformat_minor": 0
}
